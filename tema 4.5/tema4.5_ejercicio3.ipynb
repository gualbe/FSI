{
 "cells": [
  {
   "cell_type": "markdown",
   "metadata": {
    "colab_type": "text",
    "id": "0TT22IqwbKou"
   },
   "source": [
    "# Tema 4.5. Ejercicio 3 (Clase DB)"
   ]
  },
  {
   "cell_type": "markdown",
   "metadata": {
    "colab_type": "text",
    "id": "MjsVrnapa-Kd"
   },
   "source": [
    "### Importaciones de módulos"
   ]
  },
  {
   "cell_type": "code",
   "execution_count": null,
   "metadata": {
    "colab": {},
    "colab_type": "code",
    "id": "6jgG8Vdsavot"
   },
   "outputs": [],
   "source": [
    "from db_class import DB"
   ]
  },
  {
   "cell_type": "markdown",
   "metadata": {
    "colab_type": "text",
    "id": "Goh8En_Lbh8y"
   },
   "source": [
    "### Creación de un objeto de la clase DB"
   ]
  },
  {
   "cell_type": "code",
   "execution_count": null,
   "metadata": {
    "colab": {
     "base_uri": "https://localhost:8080/",
     "height": 34
    },
    "colab_type": "code",
    "id": "JzbAC3_8a6uf",
    "outputId": "a7181e7b-5fe1-4a76-8d41-4b1f3a6418d4"
   },
   "outputs": [
    {
     "name": "stdout",
     "output_type": "stream",
     "text": [
      "Connection is established to employees.db\n"
     ]
    }
   ],
   "source": [
    "db = DB(\"employees.db\")"
   ]
  },
  {
   "cell_type": "markdown",
   "metadata": {
    "colab_type": "text",
    "id": "kRUJ9jE7bo82"
   },
   "source": [
    "### Creación de una tabla de empleados en la base de datos"
   ]
  },
  {
   "cell_type": "code",
   "execution_count": null,
   "metadata": {
    "colab": {
     "base_uri": "https://localhost:8080/",
     "height": 34
    },
    "colab_type": "code",
    "id": "249_8M1xbWtF",
    "outputId": "bceea182-ba2c-4e39-db51-b1e8043289dc"
   },
   "outputs": [
    {
     "name": "stdout",
     "output_type": "stream",
     "text": [
      "The table is created.\n"
     ]
    }
   ],
   "source": [
    "db.create(\"CREATE TABLE employees(id integer PRIMARY KEY, name text, salary real, department text, position text, hireDate text)\")"
   ]
  },
  {
   "cell_type": "markdown",
   "metadata": {
    "colab_type": "text",
    "id": "-wbNyr7ib-py"
   },
   "source": [
    "### Inserción de registros de empleados en la tabla de la base de datos"
   ]
  },
  {
   "cell_type": "code",
   "execution_count": null,
   "metadata": {
    "colab": {
     "base_uri": "https://localhost:8080/",
     "height": 68
    },
    "colab_type": "code",
    "id": "4_hrusZFbZAj",
    "outputId": "c5615ddc-a581-4c1d-9930-f2142bc2ce5c"
   },
   "outputs": [
    {
     "name": "stdout",
     "output_type": "stream",
     "text": [
      "The register was added.\n",
      "The register was added.\n",
      "The register was added.\n"
     ]
    }
   ],
   "source": [
    "db.insert(\"employees\", (1, 'John', 700, 'HR', 'Employee', '2017-01-04') )\n",
    "db.insert(\"employees\", (2, 'Marie', 1200, 'SALES', 'Manager', '2016-02-14') )\n",
    "db.insert(\"employees\", (3, 'Suzie', 900, 'HR', 'Manager', '2017-08-02') )"
   ]
  },
  {
   "cell_type": "markdown",
   "metadata": {
    "colab_type": "text",
    "id": "EVvA95dMcDgU"
   },
   "source": [
    "### Consulta de empleados cuyo salario es mayor que 800"
   ]
  },
  {
   "cell_type": "code",
   "execution_count": null,
   "metadata": {
    "colab": {},
    "colab_type": "code",
    "id": "EJPkMYDUbbSb"
   },
   "outputs": [],
   "source": [
    "res = db.select('SELECT id, name FROM employees WHERE salary > 800.0')"
   ]
  },
  {
   "cell_type": "code",
   "execution_count": null,
   "metadata": {
    "colab": {
     "base_uri": "https://localhost:8080/",
     "height": 34
    },
    "colab_type": "code",
    "id": "TUOsAD8abdeB",
    "outputId": "a7162822-1c9b-42cb-dadb-9d2bb97ab2da"
   },
   "outputs": [
    {
     "data": {
      "text/plain": [
       "[(2, 'Marie'), (3, 'Suzie')]"
      ]
     },
     "execution_count": 7,
     "metadata": {
      "tags": []
     },
     "output_type": "execute_result"
    }
   ],
   "source": [
    "res"
   ]
  }
 ],
 "metadata": {
  "colab": {
   "collapsed_sections": [],
   "name": "tema4.5-ejercicio3.ipynb",
   "provenance": [],
   "toc_visible": true
  },
  "kernelspec": {
   "display_name": "Python 3",
   "language": "python",
   "name": "python3"
  },
  "language_info": {
   "codemirror_mode": {
    "name": "ipython",
    "version": 3
   },
   "file_extension": ".py",
   "mimetype": "text/x-python",
   "name": "python",
   "nbconvert_exporter": "python",
   "pygments_lexer": "ipython3",
   "version": "3.7.7"
  }
 },
 "nbformat": 4,
 "nbformat_minor": 4
}
